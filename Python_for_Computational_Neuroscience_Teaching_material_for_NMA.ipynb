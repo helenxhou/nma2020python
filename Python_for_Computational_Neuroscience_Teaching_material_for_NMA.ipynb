{
  "nbformat": 4,
  "nbformat_minor": 0,
  "metadata": {
    "colab": {
      "name": "Python for Computational Neuroscience - Teaching material for NMA ",
      "provenance": [],
      "collapsed_sections": [],
      "authorship_tag": "ABX9TyOCbdefo5vkv5pQW4/O+I4U",
      "include_colab_link": true
    },
    "kernelspec": {
      "name": "python3",
      "display_name": "Python 3"
    }
  },
  "cells": [
    {
      "cell_type": "markdown",
      "metadata": {
        "id": "view-in-github",
        "colab_type": "text"
      },
      "source": [
        "<a href=\"https://colab.research.google.com/github/helenxhou/nma2020python/blob/master/Python_for_Computational_Neuroscience_Teaching_material_for_NMA.ipynb\" target=\"_parent\"><img src=\"https://colab.research.google.com/assets/colab-badge.svg\" alt=\"Open In Colab\"/></a>"
      ]
    },
    {
      "cell_type": "markdown",
      "metadata": {
        "id": "7muY0mFx1xNY",
        "colab_type": "text"
      },
      "source": [
        "# Python Summary for Neuromatch Academy 2020\n",
        "\n",
        "__Content source:__ NMA tutorials ([github.com/NeuromatchAcademy/course-content/](https://github.com/NeuromatchAcademy/course-content/tree/master/tutorials))\n",
        "\n",
        "__Content creators:__ pod019-evasive-seals (repo: [github.com/helenxhou](https://github.com/helenxhou))\n"
      ]
    },
    {
      "cell_type": "code",
      "metadata": {
        "id": "A7NTH4PZ2l49",
        "colab_type": "code",
        "colab": {}
      },
      "source": [
        "import numpy as np\n",
        "\n",
        "import matplotlib.pyplot as plt\n",
        "# from matplotlib.colors import BoundaryNorm # denerate a colormap index\n",
        "# from mpl_toolkits.axes_grid1 import make_axes_locatable # display multiple axes\n",
        "\n",
        "from scipy import stats\n",
        "from scipy.io import loadmat\n",
        "import scipy.optimize as opt\n",
        "\n",
        "# from IPython.display import YouTubeVideo"
      ],
      "execution_count": 3,
      "outputs": []
    },
    {
      "cell_type": "code",
      "metadata": {
        "id": "yGYd3jdD2qdu",
        "colab_type": "code",
        "cellView": "form",
        "colab": {}
      },
      "source": [
        "# @title Figure Settings\n",
        "import ipywidgets as widgets       # interactive display\n",
        "%config InlineBackend.figure_format = 'retina'\n",
        "plt.style.use(\"https://raw.githubusercontent.com/NeuromatchAcademy/course-content/master/nma.mplstyle\")"
      ],
      "execution_count": null,
      "outputs": []
    },
    {
      "cell_type": "code",
      "metadata": {
        "id": "tJKJonJs2347",
        "colab_type": "code",
        "cellView": "form",
        "colab": {}
      },
      "source": [
        "# @title Helper functions\n"
      ],
      "execution_count": null,
      "outputs": []
    },
    {
      "cell_type": "markdown",
      "metadata": {
        "id": "bUAcfCW_63QY",
        "colab_type": "text"
      },
      "source": [
        "# basics"
      ]
    },
    {
      "cell_type": "code",
      "metadata": {
        "id": "1My2Y9Eq67Ne",
        "colab_type": "code",
        "colab": {}
      },
      "source": [
        "type(spike_times)\n",
        "spike_times.shape\n",
        "Lt = range_t.size\n",
        "n_neurons = len(spike_times)\n",
        "\n",
        "help(restrict_spike_times)\n",
        "\n",
        "print(type([1,2,3])) # list\n",
        "print(type((1,2,3))) # tupple\n",
        "print(type(np.array([1,2,3]))) # numpy.ndarray\n",
        "print(type(np.array((1,2,3)))) # numpy.ndarray\n",
        "\n",
        "# print\n",
        "\n",
        "print(f'dG/drE(fp_lc) = {dGdrE_lc:.3f}')\n",
        "\n",
        "print(f\"Entropy for Neuron {neuron_idx}: {entropy(pmf):.2f} bits\")\n",
        "\n",
        "print(spike_times[0][range(0,6,2)])\n",
        "print(spike_times[0][slice(0,6,2)])\n",
        "\n",
        "print( \n",
        "  type(spike_times[idx]),\n",
        "  spike_times[idx].shape,\n",
        "  sep=\"\\n\",\n",
        ")\n",
        "\n",
        "# syntactic sweetners:\n",
        "\n",
        "ax_args['ylim'] = [ymin, ymax]\n",
        "ax.set(**ax_args)\n",
        "\n",
        "# loops\n",
        "\n",
        "for i in range(1, n_steps):\n",
        "\n",
        "for k in datasets.keys():\n",
        "\n",
        "for i, x_i in enumerate(xx):\n",
        "\n",
        "if isinstance(datasets, dict):\n",
        "  else:\n",
        "    if datasets is not None:\n",
        "      print('datasets argument should be a dict')\n",
        "      raise TypeError\n",
        "\n",
        "\n",
        "\n",
        "# function definition\n",
        "\n",
        "def my_perceived_motion(*args, **kwargs):\n",
        "  return [np.nan, np.nan]"
      ],
      "execution_count": null,
      "outputs": []
    },
    {
      "cell_type": "markdown",
      "metadata": {
        "id": "Vt-wwZd53F3o",
        "colab_type": "text"
      },
      "source": [
        "# numpy"
      ]
    },
    {
      "cell_type": "code",
      "metadata": {
        "id": "XyO0xz9N3ce4",
        "colab_type": "code",
        "colab": {}
      },
      "source": [
        "# slice/index arrays \n",
        "\n",
        "M = np.array(interval_spike_times, object)\n",
        "\n",
        "J = np.zeros((2, 2))\n",
        "K = np.ones((1,10))\n",
        "constant = np.ones_like(y)\n",
        "pselfmove_nomove = np.empty(thresholds.shape)\n",
        "pselfmove_nomove[:] = np.NaN\n",
        "np.isnan(x[samp_i + wind_i])\n",
        "\n",
        "x = np.arange(0, 10, .1)\n",
        "r = np.linspace(0, 1, 1000)\n",
        "experiment_duration = np.ptp(spike_times_flat)\n",
        "wm_vestibular = np.squeeze(vestibular[:, wm_idx])\n",
        "\n",
        "isis = np.diff(single_neuron_spikes)\n",
        "counts = np.insert(counts, 0, counts[0])\n",
        "mean_idx = np.searchsorted(bins, mean_isi)\n",
        "wm_idx = np.where(judgments[:, 0] == 0)\n",
        "rE = np.append(rE_init, np.zeros(Lt - 1))\n",
        "\n",
        "# stack arrays\n",
        "\n",
        "velpredict = np.concatenate((predictions[:, 3], predictions[:, 4]))\n",
        "design_matrix = np.hstack((design_matrix, x**degree)) # stack arrays in sequence horizontally (column wise)\n",
        "X = np.column_stack([constant, make_design_matrix(stim)]) # stack 1-D arrays as columns into a 2-D array\n",
        "\n",
        "\n",
        "# matrix operations\n",
        "\n",
        "vestibular = vestibular.transpose()\n",
        "theta_hat = (x.T @ y) / (x.T @ x)\n",
        "# theta_hat = np.matmul(x.T,y)/np.matmul(x.T,x)\n",
        "# theta_hat = np.dot(x,y)/np.dot(x,x)\n",
        "\n",
        "\n",
        "# calculation and stats\n",
        "\n",
        "h = -np.sum(pmf*np.log2(pmf))\n",
        "v = np.cumsum(a * dt)\n",
        "np.abs(h)\n",
        "pdf = 1 / np.sqrt(2 * np.pi * sigma**2) * np.exp(-(y - theta_hat * x)**2 / (2 * sigma**2))   # Gaussian likelihood  \n",
        "\n",
        "\n",
        "mean_spike_count = np.mean(total_spikes_per_neuron)\n",
        "median_spike_count = np.median(total_spikes_per_neuron)\n",
        "\n",
        "ymax = np.max(counts)\n",
        "ymax = np.maximum(y, y_hat) # element-wise maximum for two arrays\n",
        "xmin, xmax = np.floor(np.min(x)), np.ceil(np.max(x))\n",
        "\n",
        "counts, bins = np.histogram(isi, n_bins)\n",
        "\n",
        "# random number generation\n",
        "\n",
        "sample_idx = np.random.choice(len(x),size=len(x), replace=True)\n",
        " \n",
        "\n",
        "# linear algebra\n",
        "\n",
        "theta_hat = np.linalg.inv(X.T @ X) @ X.T @ y\n",
        "evals = np.linalg.eig(J)[0]\n"
      ],
      "execution_count": null,
      "outputs": []
    },
    {
      "cell_type": "markdown",
      "metadata": {
        "colab_type": "text",
        "id": "obwd7KO13Oc2"
      },
      "source": [
        "# matplotlib"
      ]
    },
    {
      "cell_type": "code",
      "metadata": {
        "id": "-UdKPmqv3dNl",
        "colab_type": "code",
        "colab": {}
      },
      "source": [
        "plt.figure(figsize=(6, 4))\n",
        "\n",
        "# types of plots\n",
        "\n",
        "plt.plot(x, f, 'k')\n",
        "plt.hist(total_spikes_per_neuron, bins=50)\n",
        "plt.bar(x=[0, 1], height=[below, above])\n",
        "plt.scatter(veljudgmnt_self, velpredict_self, alpha=0.2)\n",
        "plt.eventplot(interval_spike_times[neuron_idx], color='.2')\n",
        "plt.stem(t, spikes[:nt], use_line_collection=True)\n",
        "plt.imshow(surface, origin='lower', aspect='auto', vmin=0, vmax=None, \n",
        "            cmap=plt.get_cmap('Wistia'), \n",
        "            extent=[xmin, xmax, ymin, ymax])\n",
        "\n",
        "# accessorize\n",
        "\n",
        "plt.axvline(mean_spike_count, color=\"orange\", label=\"Mean neuron\")\n",
        "plt.fill_between(bins, pmf_, step=\"pre\", alpha=0.4)\n",
        "plt.text(0.7, 0.8, f\"threshold:{thresholds[-idx]:0.2f}\\\n",
        "           \\ncorrect: {prop_correct[-idx]:0.2f}\")\n",
        "\n",
        "plt.xlabel('x (a.u.)', fontsize=14)\n",
        "plt.ylabel('F(x)', fontsize=14)\n",
        "plt.legend(loc=[1.01, 0.7],facecolor='xkcd:white')\n",
        "plt.xlim(-0.05, 1.01)\n",
        "plt.ylim(-0.05, 0.65)\n",
        "plt.xticks([0, 1], ['below', 'above'])\n",
        "plt.yticks([]);\n",
        "plt.setp(ax_x.spines.values(), visible=True)\n",
        "plt.colorbar(imx, cax=caxx)\n",
        "\n",
        "# subplots and axes\n",
        "\n",
        "fig, [ax1, ax2] = plt.subplots(nrows=1, ncols=2, sharex='col',\n",
        "                                 sharey='row', figsize=(14, 6))\n",
        "fig.suptitle('Sensory ground truth')\n",
        "ax1.set_title('world-motion condition')\n",
        "ax1.set_xlabel('observed')\n",
        "ax1.set_ylabel('predicted')\n",
        "ax1.set_xticklabels=['-20', '-10', '0']\n",
        "ax1.axhline(0, color=\".2\", linestyle=\"--\", zorder=1)\n",
        "ax1.set_zorder(1)\n",
        "# ax2 = plt.gca()\n",
        "\n",
        "\n",
        "plt.show()"
      ],
      "execution_count": null,
      "outputs": []
    },
    {
      "cell_type": "markdown",
      "metadata": {
        "id": "JFUV2m9A71ze",
        "colab_type": "text"
      },
      "source": [
        "# scipy.stats"
      ]
    },
    {
      "cell_type": "code",
      "metadata": {
        "id": "TDUOLODC77IX",
        "colab_type": "code",
        "colab": {}
      },
      "source": [
        "# Poisson samples\n",
        "exc = stats.poisson(rate).rvs(n_steps)\n",
        "\n",
        "# exponential pdf\n",
        "pmf_exp = stats.expon.pdf(bins[1:], scale=mean_isi)\n",
        "\n",
        "# gamma pdf\n",
        "a = stats.gamma.pdf(np.arange(0, 10, dt), 2.5, 0)\n",
        "\n",
        "# linear least-squares regression\n",
        "p_value, std_err = stats.linregress(conditions, veljudgmnt)\n"
      ],
      "execution_count": null,
      "outputs": []
    },
    {
      "cell_type": "markdown",
      "metadata": {
        "colab_type": "text",
        "id": "da4WwL1T3Oqm"
      },
      "source": [
        "# scipy.optimize"
      ]
    },
    {
      "cell_type": "code",
      "metadata": {
        "id": "SvDPdAKp74hP",
        "colab_type": "code",
        "colab": {}
      },
      "source": [
        ""
      ],
      "execution_count": null,
      "outputs": []
    },
    {
      "cell_type": "markdown",
      "metadata": {
        "colab_type": "text",
        "id": "E9NCq5nGQHc8"
      },
      "source": [
        "# BONUS: from team project **The hybrid seals AKA The chimeric seals**"
      ]
    },
    {
      "cell_type": "code",
      "metadata": {
        "colab_type": "code",
        "id": "saEXUtV9QQLe",
        "colab": {}
      },
      "source": [
        "# import"
      ],
      "execution_count": null,
      "outputs": []
    },
    {
      "cell_type": "code",
      "metadata": {
        "colab_type": "code",
        "id": "FOPcfNt1QQpE",
        "colab": {}
      },
      "source": [
        "# code"
      ],
      "execution_count": null,
      "outputs": []
    },
    {
      "cell_type": "markdown",
      "metadata": {
        "id": "VbDMH3xvPm8Z",
        "colab_type": "text"
      },
      "source": [
        "# BONUS: from team project **Seals Evading Hidden States**"
      ]
    },
    {
      "cell_type": "code",
      "metadata": {
        "id": "Po1zZ79nP-8c",
        "colab_type": "code",
        "colab": {}
      },
      "source": [
        "# import"
      ],
      "execution_count": null,
      "outputs": []
    },
    {
      "cell_type": "code",
      "metadata": {
        "id": "5mwOkyUQP_Hd",
        "colab_type": "code",
        "colab": {}
      },
      "source": [
        "# code"
      ],
      "execution_count": null,
      "outputs": []
    }
  ]
}